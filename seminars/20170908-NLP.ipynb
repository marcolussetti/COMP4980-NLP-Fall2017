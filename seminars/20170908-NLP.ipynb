{
 "cells": [
  {
   "cell_type": "markdown",
   "metadata": {},
   "source": [
    "# COMP4980-04 Special Topics: Natural Language Processing"
   ]
  },
  {
   "cell_type": "code",
   "execution_count": 2,
   "metadata": {
    "ExecuteTime": {
     "end_time": "2017-10-02T00:23:16.503330Z",
     "start_time": "2017-10-02T00:23:08.791978Z"
    },
    "collapsed": true
   },
   "outputs": [],
   "source": [
    "import nltk"
   ]
  },
  {
   "cell_type": "code",
   "execution_count": 3,
   "metadata": {
    "ExecuteTime": {
     "end_time": "2017-10-02T00:23:21.825305Z",
     "start_time": "2017-10-02T00:23:18.379343Z"
    }
   },
   "outputs": [
    {
     "name": "stdout",
     "output_type": "stream",
     "text": [
      "[nltk_data] Downloading package punkt to /home/conda/nltk_data...\n",
      "[nltk_data]   Unzipping tokenizers/punkt.zip.\n",
      "[nltk_data] Downloading package averaged_perceptron_tagger to\n",
      "[nltk_data]     /home/conda/nltk_data...\n",
      "[nltk_data]   Unzipping taggers/averaged_perceptron_tagger.zip.\n"
     ]
    },
    {
     "data": {
      "text/plain": [
       "True"
      ]
     },
     "execution_count": 3,
     "metadata": {},
     "output_type": "execute_result"
    }
   ],
   "source": [
    "nltk.download('punkt')\n",
    "nltk.download('averaged_perceptron_tagger')"
   ]
  },
  {
   "cell_type": "code",
   "execution_count": 2,
   "metadata": {},
   "outputs": [
    {
     "name": "stdout",
     "output_type": "stream",
     "text": [
      "--2017-09-20 12:32:23--  https://sites.google.com/site/comp498004/code/lorde.txt\n",
      "Loaded CA certificate '/etc/ssl/certs/ca-certificates.crt'\n",
      "Resolving sites.google.com... 172.217.3.206, 2607:f8b0:400a:809::200e\n",
      "Connecting to sites.google.com|172.217.3.206|:443... connected.\n",
      "HTTP request sent, awaiting response... 302 Moved Temporarily\n",
      "Location: https://sites.google.com/site/comp498004/code/lorde.txt?attredirects=0 [following]\n",
      "--2017-09-20 12:32:23--  https://sites.google.com/site/comp498004/code/lorde.txt?attredirects=0\n",
      "Reusing existing connection to sites.google.com:443.\n",
      "HTTP request sent, awaiting response... 302 Moved Temporarily\n",
      "Location: https://74afc52e-a-62cb3a1a-s-sites.googlegroups.com/site/comp498004/code/lorde.txt?attachauth=ANoY7covBhIn8OWqUrABegZ4ibe8plE3V1l3XLlNP4d8_T3AhoS4fdkuuOzmbMgxKCDoTCv9hqYszR1dsw7kIcth0Xvj2dQl9E2B45iLjFnU79FHC_VFFgTKkAul1US0bVuVpChDJMNaYuN_mxHNn5viP2tArJftMKNNMSMZXLIAqdg86-uw0_ZJKB2SvZv5R40EVG5TBuHDs-lFrC0ubh5gpblursrzCg%3D%3D&attredirects=0 [following]\n",
      "--2017-09-20 12:32:23--  https://74afc52e-a-62cb3a1a-s-sites.googlegroups.com/site/comp498004/code/lorde.txt?attachauth=ANoY7covBhIn8OWqUrABegZ4ibe8plE3V1l3XLlNP4d8_T3AhoS4fdkuuOzmbMgxKCDoTCv9hqYszR1dsw7kIcth0Xvj2dQl9E2B45iLjFnU79FHC_VFFgTKkAul1US0bVuVpChDJMNaYuN_mxHNn5viP2tArJftMKNNMSMZXLIAqdg86-uw0_ZJKB2SvZv5R40EVG5TBuHDs-lFrC0ubh5gpblursrzCg%3D%3D&attredirects=0\n",
      "Resolving 74afc52e-a-62cb3a1a-s-sites.googlegroups.com... 173.194.203.137, 2607:f8b0:400e:c05::89\n",
      "Connecting to 74afc52e-a-62cb3a1a-s-sites.googlegroups.com|173.194.203.137|:443... connected.\n",
      "HTTP request sent, awaiting response... 200 OK\n",
      "Length: unspecified [text/plain]\n",
      "Saving to: ‘lorde.txt’\n",
      "\n",
      "lorde.txt               [ <=>                ]  17.83K  --.-KB/s    in 0s      \n",
      "\n",
      "2017-09-20 12:32:23 (42.5 MB/s) - ‘lorde.txt’ saved [18263]\n",
      "\n"
     ]
    }
   ],
   "source": [
    "!wget https://sites.google.com/site/comp498004/code/lorde.txt"
   ]
  },
  {
   "cell_type": "code",
   "execution_count": 3,
   "metadata": {},
   "outputs": [
    {
     "name": "stdout",
     "output_type": "stream",
     "text": [
      "--2017-09-20 12:32:25--  https://sites.google.com/site/comp498004/code/positive-words.txt\n",
      "Loaded CA certificate '/etc/ssl/certs/ca-certificates.crt'\n",
      "Resolving sites.google.com... 172.217.3.206, 2607:f8b0:400a:809::200e\n",
      "Connecting to sites.google.com|172.217.3.206|:443... connected.\n",
      "HTTP request sent, awaiting response... 302 Moved Temporarily\n",
      "Location: https://sites.google.com/site/comp498004/code/positive-words.txt?attredirects=0 [following]\n",
      "--2017-09-20 12:32:26--  https://sites.google.com/site/comp498004/code/positive-words.txt?attredirects=0\n",
      "Reusing existing connection to sites.google.com:443.\n",
      "HTTP request sent, awaiting response... 302 Moved Temporarily\n",
      "Location: https://74afc52e-a-62cb3a1a-s-sites.googlegroups.com/site/comp498004/code/positive-words.txt?attachauth=ANoY7crV3PP4qQGCpmasKH59hkPseJcxSVvmtV6mz6u8GfKJNoRBrAbdzh_Q0UKTPTfwOA6sqll3qauFyxYCquP_AJ8H_HXKVjUh6RhrQnbaFjc9mtbam8Sf7xEGACTnWnIPkz9nhqEafcBLuBbbUV11VTXweYfP1PAlIWGiGjBLrhwC3rLyiLR5wmQTm6Ygaz-LrZEfvBL3Pnd57HCX0B1OWW59Vjmh-uG8GJ2a2pwYVlUADqTYB7s%3D&attredirects=0 [following]\n",
      "--2017-09-20 12:32:26--  https://74afc52e-a-62cb3a1a-s-sites.googlegroups.com/site/comp498004/code/positive-words.txt?attachauth=ANoY7crV3PP4qQGCpmasKH59hkPseJcxSVvmtV6mz6u8GfKJNoRBrAbdzh_Q0UKTPTfwOA6sqll3qauFyxYCquP_AJ8H_HXKVjUh6RhrQnbaFjc9mtbam8Sf7xEGACTnWnIPkz9nhqEafcBLuBbbUV11VTXweYfP1PAlIWGiGjBLrhwC3rLyiLR5wmQTm6Ygaz-LrZEfvBL3Pnd57HCX0B1OWW59Vjmh-uG8GJ2a2pwYVlUADqTYB7s%3D&attredirects=0\n",
      "Resolving 74afc52e-a-62cb3a1a-s-sites.googlegroups.com... 173.194.203.137, 2607:f8b0:400e:c05::89\n",
      "Connecting to 74afc52e-a-62cb3a1a-s-sites.googlegroups.com|173.194.203.137|:443... connected.\n",
      "HTTP request sent, awaiting response... 200 OK\n",
      "Length: unspecified [text/plain]\n",
      "Saving to: ‘positive-words.txt.1’\n",
      "\n",
      "positive-words.txt.     [ <=>                ]  18.65K  --.-KB/s    in 0.02s   \n",
      "\n",
      "2017-09-20 12:32:26 (873 KB/s) - ‘positive-words.txt.1’ saved [19093]\n",
      "\n"
     ]
    }
   ],
   "source": [
    "!wget https://sites.google.com/site/comp498004/code/positive-words.txt"
   ]
  },
  {
   "cell_type": "code",
   "execution_count": 4,
   "metadata": {},
   "outputs": [
    {
     "name": "stdout",
     "output_type": "stream",
     "text": [
      "--2017-09-20 12:32:27--  https://sites.google.com/site/comp498004/code/negative-words.txt\n",
      "Loaded CA certificate '/etc/ssl/certs/ca-certificates.crt'\n",
      "Resolving sites.google.com... 172.217.3.206, 2607:f8b0:400a:809::200e\n",
      "Connecting to sites.google.com|172.217.3.206|:443... connected.\n",
      "HTTP request sent, awaiting response... 302 Moved Temporarily\n",
      "Location: https://sites.google.com/site/comp498004/code/negative-words.txt?attredirects=0 [following]\n",
      "--2017-09-20 12:32:28--  https://sites.google.com/site/comp498004/code/negative-words.txt?attredirects=0\n",
      "Reusing existing connection to sites.google.com:443.\n",
      "HTTP request sent, awaiting response... 302 Moved Temporarily\n",
      "Location: https://74afc52e-a-62cb3a1a-s-sites.googlegroups.com/site/comp498004/code/negative-words.txt?attachauth=ANoY7cpZKDLU1i6tnIGRcaq9Gi3IsEztXUDNoLp6AwcprSIVgdO6TiThamac8vV6Ec5ycTfl2ooLxN2tFFDBgCA2otc87mkB0dnhnh3m4WKCbbMewADqZdlQWy473b5suaaR8jHDXL5g7LblRnLGUySLZa_OMxDgi8Fihc1GElF0NJQ3Scx-0LOUkMFobZZm88FkYJ8qav-wpKLWLrtwv1z8N-C1Lz2ZPqP_PQsQOnEpHBxEByp6DN0%3D&attredirects=0 [following]\n",
      "--2017-09-20 12:32:28--  https://74afc52e-a-62cb3a1a-s-sites.googlegroups.com/site/comp498004/code/negative-words.txt?attachauth=ANoY7cpZKDLU1i6tnIGRcaq9Gi3IsEztXUDNoLp6AwcprSIVgdO6TiThamac8vV6Ec5ycTfl2ooLxN2tFFDBgCA2otc87mkB0dnhnh3m4WKCbbMewADqZdlQWy473b5suaaR8jHDXL5g7LblRnLGUySLZa_OMxDgi8Fihc1GElF0NJQ3Scx-0LOUkMFobZZm88FkYJ8qav-wpKLWLrtwv1z8N-C1Lz2ZPqP_PQsQOnEpHBxEByp6DN0%3D&attredirects=0\n",
      "Resolving 74afc52e-a-62cb3a1a-s-sites.googlegroups.com... 173.194.203.137, 2607:f8b0:400e:c05::89\n",
      "Connecting to 74afc52e-a-62cb3a1a-s-sites.googlegroups.com|173.194.203.137|:443... connected.\n",
      "HTTP request sent, awaiting response... 200 OK\n",
      "Length: unspecified [text/plain]\n",
      "Saving to: ‘negative-words.txt.1’\n",
      "\n",
      "negative-words.txt.     [ <=>                ]  43.70K  --.-KB/s    in 0.03s   \n",
      "\n",
      "2017-09-20 12:32:28 (1.39 MB/s) - ‘negative-words.txt.1’ saved [44752]\n",
      "\n"
     ]
    }
   ],
   "source": [
    "!wget https://sites.google.com/site/comp498004/code/negative-words.txt"
   ]
  },
  {
   "cell_type": "code",
   "execution_count": 5,
   "metadata": {
    "collapsed": true
   },
   "outputs": [],
   "source": [
    "lorde = open('lorde.txt').read()\n",
    "lorde_tokens = nltk.pos_tag(nltk.word_tokenize(lorde))"
   ]
  },
  {
   "cell_type": "code",
   "execution_count": 6,
   "metadata": {
    "collapsed": true
   },
   "outputs": [],
   "source": [
    "negative = open('negative-words.txt').read()\n",
    "negative_tokens = nltk.pos_tag(nltk.word_tokenize(negative))"
   ]
  },
  {
   "cell_type": "code",
   "execution_count": 7,
   "metadata": {
    "collapsed": true
   },
   "outputs": [],
   "source": [
    "negative_intersection = set(lorde_tokens).intersection(negative_tokens)"
   ]
  },
  {
   "cell_type": "code",
   "execution_count": 8,
   "metadata": {
    "collapsed": true
   },
   "outputs": [],
   "source": [
    "positive = open('positive-words.txt').read()"
   ]
  },
  {
   "cell_type": "code",
   "execution_count": 10,
   "metadata": {
    "collapsed": true
   },
   "outputs": [],
   "source": [
    "positive_tokens = nltk.pos_tag(nltk.word_tokenize(positive))"
   ]
  },
  {
   "cell_type": "code",
   "execution_count": 15,
   "metadata": {
    "collapsed": true
   },
   "outputs": [],
   "source": [
    "positive_intersection = set(lorde_tokens).intersection(positive_tokens)"
   ]
  },
  {
   "cell_type": "code",
   "execution_count": 16,
   "metadata": {},
   "outputs": [
    {
     "name": "stdout",
     "output_type": "stream",
     "text": [
      "-\n"
     ]
    }
   ],
   "source": [
    "print('+' if len(positive_intersection) > len(negative_intersection) else '-' if len(positive_intersection) < len(negative_intersection) else '0')"
   ]
  },
  {
   "cell_type": "markdown",
   "metadata": {},
   "source": [
    "# Next one"
   ]
  },
  {
   "cell_type": "code",
   "execution_count": 17,
   "metadata": {
    "collapsed": true
   },
   "outputs": [],
   "source": [
    "import nltk"
   ]
  },
  {
   "cell_type": "code",
   "execution_count": 18,
   "metadata": {
    "collapsed": true
   },
   "outputs": [],
   "source": [
    "bigrams = list(nltk.bigrams(open('lorde.txt').read().split()))"
   ]
  },
  {
   "cell_type": "code",
   "execution_count": 19,
   "metadata": {
    "collapsed": true
   },
   "outputs": [],
   "source": [
    "bigrams_with_negation = [bigram for bigram in bigrams if bigram[0] == 'not']"
   ]
  },
  {
   "cell_type": "code",
   "execution_count": 20,
   "metadata": {
    "collapsed": true
   },
   "outputs": [],
   "source": [
    "unique_bigrams_with_negation = list(set(bigrams_with_negation))"
   ]
  },
  {
   "cell_type": "code",
   "execution_count": 21,
   "metadata": {},
   "outputs": [
    {
     "data": {
      "text/plain": [
       "[('Green', 'Light'),\n",
       " ('Light', '[Verse'),\n",
       " ('[Verse', '1]'),\n",
       " ('1]', 'I'),\n",
       " ('I', 'do'),\n",
       " ('do', 'my'),\n",
       " ('my', 'makeup'),\n",
       " ('makeup', 'in'),\n",
       " ('in', 'somebody'),\n",
       " ('somebody', \"else's\"),\n",
       " (\"else's\", 'car'),\n",
       " ('car', 'We'),\n",
       " ('We', 'order'),\n",
       " ('order', 'different'),\n",
       " ('different', 'drinks'),\n",
       " ('drinks', 'at'),\n",
       " ('at', 'the'),\n",
       " ('the', 'same'),\n",
       " ('same', 'bars'),\n",
       " ('bars', 'I'),\n",
       " ('I', 'know'),\n",
       " ('know', 'about'),\n",
       " ('about', 'what'),\n",
       " ('what', 'you'),\n",
       " ('you', 'did'),\n",
       " ('did', 'and'),\n",
       " ('and', 'I'),\n",
       " ('I', 'wanna'),\n",
       " ('wanna', 'scream'),\n",
       " ('scream', 'the'),\n",
       " ('the', 'truth'),\n",
       " ('truth', 'She'),\n",
       " ('She', 'thinks'),\n",
       " ('thinks', 'you'),\n",
       " ('you', 'love'),\n",
       " ('love', 'the'),\n",
       " ('the', 'beach,'),\n",
       " ('beach,', \"you're\"),\n",
       " (\"you're\", 'such'),\n",
       " ('such', 'a'),\n",
       " ('a', 'damn'),\n",
       " ('damn', 'liar'),\n",
       " ('liar', '[Refrain]'),\n",
       " ('[Refrain]', 'Well'),\n",
       " ('Well', 'those'),\n",
       " ('those', 'great'),\n",
       " ('great', 'whites,'),\n",
       " ('whites,', 'they'),\n",
       " ('they', 'have'),\n",
       " ('have', 'big')]"
      ]
     },
     "execution_count": 21,
     "metadata": {},
     "output_type": "execute_result"
    }
   ],
   "source": [
    "bigrams[:50]"
   ]
  },
  {
   "cell_type": "code",
   "execution_count": 22,
   "metadata": {},
   "outputs": [
    {
     "data": {
      "text/plain": [
       "[('not', 'in'),\n",
       " ('not', 'in'),\n",
       " ('not', 'my'),\n",
       " ('not', 'fight)'),\n",
       " ('not', 'fight'),\n",
       " ('not', 'fight)'),\n",
       " ('not', 'fight)'),\n",
       " ('not', 'what'),\n",
       " ('not', 'what'),\n",
       " ('not', 'what')]"
      ]
     },
     "execution_count": 22,
     "metadata": {},
     "output_type": "execute_result"
    }
   ],
   "source": [
    "bigrams_with_negation[:10]"
   ]
  },
  {
   "cell_type": "code",
   "execution_count": 23,
   "metadata": {},
   "outputs": [
    {
     "data": {
      "text/plain": [
       "[('not', 'fight'),\n",
       " ('not', 'what'),\n",
       " ('not', 'my'),\n",
       " ('not', 'fight)'),\n",
       " ('not', 'in')]"
      ]
     },
     "execution_count": 23,
     "metadata": {},
     "output_type": "execute_result"
    }
   ],
   "source": [
    "unique_bigrams_with_negation[:10]"
   ]
  },
  {
   "cell_type": "markdown",
   "metadata": {},
   "source": [
    "# Line"
   ]
  },
  {
   "cell_type": "code",
   "execution_count": 35,
   "metadata": {
    "collapsed": true
   },
   "outputs": [],
   "source": [
    "import nltk"
   ]
  },
  {
   "cell_type": "code",
   "execution_count": 36,
   "metadata": {
    "collapsed": true
   },
   "outputs": [],
   "source": [
    "from nltk.corpus import wordnet as wn"
   ]
  },
  {
   "cell_type": "code",
   "execution_count": null,
   "metadata": {
    "collapsed": true
   },
   "outputs": [],
   "source": [
    "def printsyns(word, p_o_s):\n",
    "    for part in p_o_s:\n",
    "        sps = wn.synsets(word, pos = part)\n",
    "        print(len(sps), part, '\\n')"
   ]
  }
 ],
 "metadata": {
  "kernelspec": {
   "display_name": "Python 3",
   "language": "python",
   "name": "python3"
  },
  "language_info": {
   "codemirror_mode": {
    "name": "ipython",
    "version": 3
   },
   "file_extension": ".py",
   "mimetype": "text/x-python",
   "name": "python",
   "nbconvert_exporter": "python",
   "pygments_lexer": "ipython3",
   "version": "3.6.2"
  }
 },
 "nbformat": 4,
 "nbformat_minor": 2
}
