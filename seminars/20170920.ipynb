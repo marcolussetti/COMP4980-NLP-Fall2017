{
 "cells": [
  {
   "cell_type": "markdown",
   "metadata": {},
   "source": [
    "# 20170920"
   ]
  },
  {
   "cell_type": "markdown",
   "metadata": {},
   "source": [
    "## State Machine from https://www.python-course.eu/finite_state_machine.php"
   ]
  },
  {
   "cell_type": "code",
   "execution_count": 6,
   "metadata": {
    "collapsed": true
   },
   "outputs": [],
   "source": [
    "class StateMachine:\n",
    "    def __init__(self):\n",
    "        self.handlers = {}\n",
    "        self.startState = None\n",
    "        self.endStates = []\n",
    "\n",
    "    def add_state(self, name, handler, end_state=0):\n",
    "        name = name.upper()\n",
    "        self.handlers[name] = handler\n",
    "        if end_state:\n",
    "            self.endStates.append(name)\n",
    "\n",
    "    def set_start(self, name):\n",
    "        self.startState = name.upper()\n",
    "\n",
    "    def run(self, cargo):\n",
    "        try:\n",
    "            handler = self.handlers[self.startState]\n",
    "        except:\n",
    "            raise InitializationError(\"must call .set_start() before .run()\")\n",
    "        if not self.endStates:\n",
    "            raise  InitializationError(\"at least one state must be an end_state\")\n",
    "    \n",
    "        while True:\n",
    "            (newState, cargo) = handler(cargo)\n",
    "            if newState.upper() in self.endStates:\n",
    "                print(\"reached \", newState)\n",
    "                break \n",
    "            else:\n",
    "                handler = self.handlers[newState.upper()]       "
   ]
  },
  {
   "cell_type": "code",
   "execution_count": 7,
   "metadata": {},
   "outputs": [],
   "source": [
    "positive_adjectives = [\"great\",\"super\", \"fun\", \"entertaining\", \"easy\"]\n",
    "negative_adjectives = [\"boring\", \"difficult\", \"ugly\", \"bad\"]"
   ]
  },
  {
   "cell_type": "code",
   "execution_count": 8,
   "metadata": {
    "collapsed": true
   },
   "outputs": [],
   "source": [
    "def start_transitions(txt):\n",
    "    splitted_txt = txt.split(None,1)\n",
    "    word, txt = splitted_txt if len(splitted_txt) > 1 else (txt,\"\")\n",
    "    if word == \"Python\":\n",
    "        newState = \"Python_state\"\n",
    "    else:\n",
    "        newState = \"error_state\"\n",
    "    return (newState, txt)\n",
    "\n",
    "def python_state_transitions(txt):\n",
    "    splitted_txt = txt.split(None,1)\n",
    "    word, txt = splitted_txt if len(splitted_txt) > 1 else (txt,\"\")\n",
    "    if word == \"is\":\n",
    "        newState = \"is_state\"\n",
    "    else:\n",
    "        newState = \"error_state\"\n",
    "    return (newState, txt)\n",
    "\n",
    "def is_state_transitions(txt):\n",
    "    splitted_txt = txt.split(None,1)\n",
    "    word, txt = splitted_txt if len(splitted_txt) > 1 else (txt,\"\")\n",
    "    if word == \"not\":\n",
    "        newState = \"not_state\"\n",
    "    elif word in positive_adjectives:\n",
    "        newState = \"pos_state\"\n",
    "    elif word in negative_adjectives:\n",
    "        newState = \"neg_state\"\n",
    "    else:\n",
    "        newState = \"error_state\"\n",
    "    return (newState, txt)\n",
    "\n",
    "def not_state_transitions(txt):\n",
    "    splitted_txt = txt.split(None,1)\n",
    "    word, txt = splitted_txt if len(splitted_txt) > 1 else (txt,\"\")\n",
    "    if word in positive_adjectives:\n",
    "        newState = \"neg_state\"\n",
    "    elif word in negative_adjectives:\n",
    "        newState = \"pos_state\"\n",
    "    else:\n",
    "        newState = \"error_state\"\n",
    "    return (newState, txt)\n",
    "\n",
    "def neg_state(txt):\n",
    "    print(\"Hallo\")\n",
    "    return (\"neg_state\", \"\")"
   ]
  },
  {
   "cell_type": "code",
   "execution_count": 15,
   "metadata": {},
   "outputs": [],
   "source": [
    "m = StateMachine()\n",
    "m.add_state(\"Start\", start_transitions)\n",
    "m.add_state(\"Python_state\", python_state_transitions)\n",
    "m.add_state(\"is_state\", is_state_transitions)\n",
    "m.add_state(\"not_state\", not_state_transitions)\n",
    "m.add_state(\"neg_state\", None, end_state=1)\n",
    "m.add_state(\"pos_state\", None, end_state=1)\n",
    "m.add_state(\"error_state\", None, end_state=1)\n",
    "m.set_start(\"Start\")"
   ]
  },
  {
   "cell_type": "code",
   "execution_count": 16,
   "metadata": {},
   "outputs": [
    {
     "name": "stdout",
     "output_type": "stream",
     "text": [
      "reached  pos_state\n"
     ]
    }
   ],
   "source": [
    "m.run(\"Python is great\")"
   ]
  },
  {
   "cell_type": "code",
   "execution_count": 13,
   "metadata": {},
   "outputs": [
    {
     "name": "stdout",
     "output_type": "stream",
     "text": [
      "reached  neg_state\n"
     ]
    }
   ],
   "source": [
    "m.run(\"Python is difficult\")"
   ]
  },
  {
   "cell_type": "code",
   "execution_count": 17,
   "metadata": {},
   "outputs": [
    {
     "name": "stdout",
     "output_type": "stream",
     "text": [
      "reached  error_state\n"
     ]
    }
   ],
   "source": [
    "m.run(\"Perl is ugly\")"
   ]
  },
  {
   "cell_type": "code",
   "execution_count": null,
   "metadata": {
    "collapsed": true
   },
   "outputs": [],
   "source": []
  }
 ],
 "metadata": {
  "kernelspec": {
   "display_name": "Python 3",
   "language": "python",
   "name": "python3"
  },
  "language_info": {
   "codemirror_mode": {
    "name": "ipython",
    "version": 3
   },
   "file_extension": ".py",
   "mimetype": "text/x-python",
   "name": "python",
   "nbconvert_exporter": "python",
   "pygments_lexer": "ipython3",
   "version": "3.6.2"
  }
 },
 "nbformat": 4,
 "nbformat_minor": 2
}
