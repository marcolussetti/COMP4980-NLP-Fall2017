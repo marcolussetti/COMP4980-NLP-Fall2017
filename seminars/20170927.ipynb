{
 "cells": [
  {
   "cell_type": "markdown",
   "metadata": {},
   "source": [
    "# 20170927 Notes for NLP"
   ]
  },
  {
   "cell_type": "markdown",
   "metadata": {},
   "source": [
    "## Notes\n",
    "- Several people noted their emails not being received, so he will try to acknowledge any email he receives. If you have issues, it seems like you can just upload your code somewhere and link it to him (Dropbox, Google Drive -- I would add gist.github.com)\n",
    "- For the project, you will need to pair up. Suggests pairing between a strong Python programmer and a less strong Python programmer.\n",
    "- Several people noted that they only started programming in Python in this class. Get in touch with him, so that something can be done about it."
   ]
  },
  {
   "cell_type": "code",
   "execution_count": null,
   "metadata": {
    "collapsed": true
   },
   "outputs": [],
   "source": []
  }
 ],
 "metadata": {
  "kernelspec": {
   "display_name": "Python 3",
   "language": "python",
   "name": "python3"
  },
  "language_info": {
   "codemirror_mode": {
    "name": "ipython",
    "version": 3
   },
   "file_extension": ".py",
   "mimetype": "text/x-python",
   "name": "python",
   "nbconvert_exporter": "python",
   "pygments_lexer": "ipython3",
   "version": "3.6.2"
  }
 },
 "nbformat": 4,
 "nbformat_minor": 2
}
