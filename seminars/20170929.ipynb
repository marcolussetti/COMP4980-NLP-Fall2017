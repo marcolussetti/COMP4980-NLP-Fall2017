{
 "cells": [
  {
   "cell_type": "markdown",
   "metadata": {},
   "source": [
    "# 20170929"
   ]
  },
  {
   "cell_type": "markdown",
   "metadata": {},
   "source": [
    "## brownModalsTabulate"
   ]
  },
  {
   "cell_type": "markdown",
   "metadata": {},
   "source": [
    "### Version done in class"
   ]
  },
  {
   "cell_type": "code",
   "execution_count": 3,
   "metadata": {
    "ExecuteTime": {
     "end_time": "2017-10-02T00:30:08.049097Z",
     "start_time": "2017-10-02T00:30:07.010234Z"
    }
   },
   "outputs": [
    {
     "name": "stdout",
     "output_type": "stream",
     "text": [
      "[nltk_data] Downloading package brown to /home/conda/nltk_data...\n",
      "[nltk_data]   Unzipping corpora/brown.zip.\n"
     ]
    },
    {
     "data": {
      "text/plain": [
       "True"
      ]
     },
     "execution_count": 3,
     "metadata": {},
     "output_type": "execute_result"
    }
   ],
   "source": [
    "import nltk\n",
    "import random\n",
    "\n",
    "from nltk import ConditionalFreqDist\n",
    "from nltk.corpus import brown\n",
    "\n",
    "nltk.download('brown')"
   ]
  },
  {
   "cell_type": "code",
   "execution_count": 4,
   "metadata": {
    "ExecuteTime": {
     "end_time": "2017-10-02T00:30:15.482524Z",
     "start_time": "2017-10-02T00:30:10.968845Z"
    }
   },
   "outputs": [],
   "source": [
    "conditional_frequency = nltk.ConditionalFreqDist(\n",
    "    (genre, word)\n",
    "    for genre in brown.categories() for word in brown.words(categories=genre))"
   ]
  },
  {
   "cell_type": "code",
   "execution_count": 5,
   "metadata": {
    "ExecuteTime": {
     "end_time": "2017-10-02T00:30:17.719279Z",
     "start_time": "2017-10-02T00:30:17.713877Z"
    },
    "collapsed": true
   },
   "outputs": [],
   "source": [
    "genres = ['news', 'religion', 'hobbies', 'science_fiction', 'romance', 'humor']\n",
    "tokens = ['can', 'could', 'may', 'might', 'must', 'will', 'would', 'shall', 'should']"
   ]
  },
  {
   "cell_type": "code",
   "execution_count": 6,
   "metadata": {
    "ExecuteTime": {
     "end_time": "2017-10-02T00:30:18.638969Z",
     "start_time": "2017-10-02T00:30:18.571271Z"
    }
   },
   "outputs": [
    {
     "name": "stdout",
     "output_type": "stream",
     "text": [
      "                   can  could    may  might   must   will  would  shall should \n",
      "           news     93     86     66     38     50    389    244      5     59 \n",
      "       religion     82     59     78     12     54     71     68     21     45 \n",
      "        hobbies    268     58    131     22     83    264     78      5     73 \n",
      "science_fiction     16     49      4     12      8     16     79      3      3 \n",
      "        romance     74    193     11     51     45     43    244      3     32 \n",
      "          humor     16     30      8      8      9     13     56      2      7 \n"
     ]
    }
   ],
   "source": [
    "conditional_frequency.tabulate(conditions=genres, samples=tokens)"
   ]
  },
  {
   "cell_type": "markdown",
   "metadata": {
    "collapsed": true
   },
   "source": [
    "### Version posted after"
   ]
  },
  {
   "cell_type": "markdown",
   "metadata": {},
   "source": [
    "This version includes additional categories/genres from the Brown corpus and prints the token count per genre"
   ]
  },
  {
   "cell_type": "code",
   "execution_count": 8,
   "metadata": {
    "ExecuteTime": {
     "end_time": "2017-10-02T00:31:08.500614Z",
     "start_time": "2017-10-02T00:31:08.488999Z"
    }
   },
   "outputs": [],
   "source": [
    "from tabulate import tabulate"
   ]
  },
  {
   "cell_type": "code",
   "execution_count": 9,
   "metadata": {
    "ExecuteTime": {
     "end_time": "2017-10-02T00:31:09.814823Z",
     "start_time": "2017-10-02T00:31:09.810963Z"
    },
    "collapsed": true
   },
   "outputs": [],
   "source": [
    "genres = brown.categories()"
   ]
  },
  {
   "cell_type": "code",
   "execution_count": 10,
   "metadata": {
    "ExecuteTime": {
     "end_time": "2017-10-02T00:31:10.798391Z",
     "start_time": "2017-10-02T00:31:10.667323Z"
    }
   },
   "outputs": [
    {
     "name": "stdout",
     "output_type": "stream",
     "text": [
      "                   can  could    may  might   must   will  would  shall should \n",
      "      adventure     46    151      5     58     27     50    191      7     15 \n",
      " belles_lettres    246    213    207    113    170    236    392     34    102 \n",
      "      editorial    121     56     74     39     53    233    180     19     88 \n",
      "        fiction     37    166      8     44     55     52    287      3     35 \n",
      "     government    117     38    153     13    102    244    120     98    112 \n",
      "        hobbies    268     58    131     22     83    264     78      5     73 \n",
      "          humor     16     30      8      8      9     13     56      2      7 \n",
      "        learned    365    159    324    128    202    340    319     40    171 \n",
      "           lore    170    141    165     49     96    175    186     12     76 \n",
      "        mystery     42    141     13     57     30     20    186      1     29 \n",
      "           news     93     86     66     38     50    389    244      5     59 \n",
      "       religion     82     59     78     12     54     71     68     21     45 \n",
      "        reviews     45     40     45     26     19     58     47      1     18 \n",
      "        romance     74    193     11     51     45     43    244      3     32 \n",
      "science_fiction     16     49      4     12      8     16     79      3      3 \n"
     ]
    }
   ],
   "source": [
    "conditional_frequency.tabulate(conditions=genres, samples=tokens)"
   ]
  },
  {
   "cell_type": "markdown",
   "metadata": {},
   "source": [
    "Token counts by genres"
   ]
  },
  {
   "cell_type": "code",
   "execution_count": 11,
   "metadata": {
    "ExecuteTime": {
     "end_time": "2017-10-02T00:31:16.553100Z",
     "start_time": "2017-10-02T00:31:13.815465Z"
    },
    "collapsed": true
   },
   "outputs": [],
   "source": [
    "token_counts_by_genre = [(genre, len(brown.words(categories=genre))) for genre in genres]"
   ]
  },
  {
   "cell_type": "code",
   "execution_count": 12,
   "metadata": {
    "ExecuteTime": {
     "end_time": "2017-10-02T00:31:17.432447Z",
     "start_time": "2017-10-02T00:31:17.423839Z"
    }
   },
   "outputs": [
    {
     "name": "stdout",
     "output_type": "stream",
     "text": [
      "Brown genre        Token count\n",
      "---------------  -------------\n",
      "adventure                69342\n",
      "belles_lettres          173096\n",
      "editorial                61604\n",
      "fiction                  68488\n",
      "government               70117\n",
      "hobbies                  82345\n",
      "humor                    21695\n",
      "learned                 181888\n",
      "lore                    110299\n",
      "mystery                  57169\n",
      "news                    100554\n",
      "religion                 39399\n",
      "reviews                  40704\n",
      "romance                  70022\n",
      "science_fiction          14470\n"
     ]
    }
   ],
   "source": [
    "print(tabulate(token_counts_by_genre, headers=['Brown genre', 'Token count']))"
   ]
  },
  {
   "cell_type": "markdown",
   "metadata": {},
   "source": [
    "## Conditional Frequency Distribution, Conditional Probability Distribution"
   ]
  },
  {
   "cell_type": "markdown",
   "metadata": {},
   "source": [
    "This is just based on what was posted, with some basic tweaks to get things going on my system."
   ]
  },
  {
   "cell_type": "code",
   "execution_count": 13,
   "metadata": {
    "ExecuteTime": {
     "end_time": "2017-10-02T00:31:20.571280Z",
     "start_time": "2017-10-02T00:31:20.567071Z"
    },
    "collapsed": true
   },
   "outputs": [],
   "source": [
    "from nltk import ConditionalFreqDist, ConditionalProbDist"
   ]
  },
  {
   "cell_type": "code",
   "execution_count": 14,
   "metadata": {
    "ExecuteTime": {
     "end_time": "2017-10-02T00:31:25.972754Z",
     "start_time": "2017-10-02T00:31:21.542072Z"
    },
    "collapsed": true
   },
   "outputs": [],
   "source": [
    "# Just some of my own code to load a sample text for work with\n",
    "import urllib.request\n",
    "SOURCE = \"http://sites.google.com/site/comp498004/data/Daniel_Deronda.txt\"\n",
    "request = urllib.request.urlopen(SOURCE)\n",
    "text = request.read().decode('utf-8')"
   ]
  },
  {
   "cell_type": "code",
   "execution_count": 15,
   "metadata": {
    "ExecuteTime": {
     "end_time": "2017-10-02T00:31:31.008982Z",
     "start_time": "2017-10-02T00:31:28.092669Z"
    }
   },
   "outputs": [
    {
     "data": {
      "text/plain": [
       "['DANIEL',\n",
       " 'DERONDA',\n",
       " 'By',\n",
       " 'George',\n",
       " 'Eliot',\n",
       " 'Let',\n",
       " 'thy',\n",
       " 'chief',\n",
       " 'terror',\n",
       " 'be']"
      ]
     },
     "execution_count": 15,
     "metadata": {},
     "output_type": "execute_result"
    }
   ],
   "source": [
    "tokens = nltk.word_tokenize(text)\n",
    "tokens[:10]"
   ]
  },
  {
   "cell_type": "code",
   "execution_count": 16,
   "metadata": {
    "ExecuteTime": {
     "end_time": "2017-10-02T00:31:33.100170Z",
     "start_time": "2017-10-02T00:31:33.095875Z"
    },
    "collapsed": true
   },
   "outputs": [],
   "source": [
    "bigrams = nltk.bigrams(tokens)\n",
    "# list(bigrams)[:10]"
   ]
  },
  {
   "cell_type": "code",
   "execution_count": 17,
   "metadata": {
    "ExecuteTime": {
     "end_time": "2017-10-02T00:31:35.138697Z",
     "start_time": "2017-10-02T00:31:34.113582Z"
    },
    "collapsed": true
   },
   "outputs": [],
   "source": [
    "conditional_frequency_distribution = nltk.ConditionalFreqDist(bigrams)\n",
    "conditional_probability_distribution = nltk.ConditionalProbDist(\n",
    "    conditional_frequency_distribution, nltk.MLEProbDist)"
   ]
  },
  {
   "cell_type": "code",
   "execution_count": 18,
   "metadata": {
    "ExecuteTime": {
     "end_time": "2017-10-02T00:31:35.143499Z",
     "start_time": "2017-10-02T00:31:35.140516Z"
    },
    "collapsed": true
   },
   "outputs": [],
   "source": [
    "def dictionary_to_list(dict):\n",
    "    return ([(k, v) for k, v in dict.items()])"
   ]
  },
  {
   "cell_type": "markdown",
   "metadata": {},
   "source": [
    "### Conditional Frequency Distribution"
   ]
  },
  {
   "cell_type": "code",
   "execution_count": 19,
   "metadata": {
    "ExecuteTime": {
     "end_time": "2017-10-02T00:31:38.892029Z",
     "start_time": "2017-10-02T00:31:38.870221Z"
    }
   },
   "outputs": [
    {
     "name": "stdout",
     "output_type": "stream",
     "text": [
      "(\"'mid\", FreqDist({'the': 1, 'many': 1}))\n",
      "(',', FreqDist({'and': 3284, \"''\": 1431, 'but': 678, '``': 495, 'I': 454, 'the': 450, 'with': 440, 'as': 400, 'which': 355, 'he': 328, ...}))\n",
      "(':', FreqDist({'he': 82, 'she': 71, 'it': 67, 'the': 55, 'and': 46, '--': 44, 'I': 38, '``': 29, 'but': 27, 'a': 26, ...}))\n",
      "('By', FreqDist({'the': 7, 'George': 4, 'this': 2, 'rule': 1, 'dint': 1, 'what': 1, 'and': 1, 'all': 1, 'degrees': 1}))\n",
      "('DANIEL', FreqDist({'DERONDA': 3}))\n",
      "('DERONDA', FreqDist({'.': 2, 'By': 1, ',': 1}))\n",
      "('Eliot', FreqDist({'Let': 1}))\n",
      "('George', FreqDist({'!': 2, 'Eliot': 1, 'the': 1, ',': 1}))\n",
      "('Let', FreqDist({'us': 22, 'me': 11, 'the': 7, 'no': 2, 'there': 2, 'him': 2, 'her': 2, 'thy': 1, 'your': 1, 'Sir': 1, ...}))\n",
      "('There', FreqDist({'was': 79, 'is': 59, 'are': 26, \"'s\": 12, 'were': 7, 'had': 7, 'could': 6, 'may': 6, 'must': 4, '!': 3, ...}))\n",
      "('be', FreqDist({'a': 155, 'the': 51, 'in': 40, 'done': 32, ',': 32, 'at': 30, 'taken': 29, 'more': 29, 'an': 29, 'very': 28, ...}))\n",
      "('chief', FreqDist({'reason': 3, 'thought': 2, 'epoch': 2, 'terror': 1, 'charms': 1, 'object': 1, 'question': 1, 'grievance': 1, 'holiday': 1, 'difference': 1, ...}))\n",
      "('of', FreqDist({'the': 1256, 'a': 477, 'her': 470, 'his': 445, 'that': 156, 'it': 116, 'this': 109, 'my': 107, 'what': 99, 'our': 94, ...}))\n",
      "('own', FreqDist({',': 22, '.': 17, 'life': 17, 'way': 8, 'part': 8, 'feeling': 7, 'room': 6, 'mind': 6, 'people': 6, 'future': 6, ...}))\n",
      "('soul', FreqDist({'.': 15, ',': 13, 'of': 11, 'is': 6, 'was': 5, 'within': 4, 'to': 4, ':': 3, ';': 3, '--': 3, ...}))\n",
      "('terror', FreqDist({'.': 6, ';': 4, ',': 3, 'at': 2, 'lest': 2, '--': 2, 'be': 1, 'were': 1, 'or': 1, ':': 1, ...}))\n",
      "('the', FreqDist({'world': 171, 'same': 150, 'first': 126, 'other': 115, 'more': 102, 'best': 86, 'door': 81, 'most': 76, 'last': 67, 'old': 65, ...}))\n",
      "('thine', FreqDist({'own': 1, '.': 1}))\n",
      "('throng', FreqDist({'of': 1, 'Of': 1}))\n",
      "('thy', FreqDist({'chief': 1, 'heart': 1, 'children': 1, 'goodness': 1, 'own': 1}))\n"
     ]
    }
   ],
   "source": [
    "print(*sorted(dictionary_to_list(conditional_frequency_distribution)[:20]), sep=\"\\n\")"
   ]
  },
  {
   "cell_type": "code",
   "execution_count": 20,
   "metadata": {
    "ExecuteTime": {
     "end_time": "2017-10-02T00:31:40.953799Z",
     "start_time": "2017-10-02T00:31:40.944937Z"
    }
   },
   "outputs": [
    {
     "data": {
      "text/plain": [
       "FreqDist({',': 8,\n",
       "          '--': 1,\n",
       "          '.': 2,\n",
       "          ';': 1,\n",
       "          'England': 1,\n",
       "          'Genoa': 1,\n",
       "          'Leubronn': 3,\n",
       "          'Penelope': 1,\n",
       "          'Pennicote': 1,\n",
       "          'Quetcham': 1,\n",
       "          'a': 3,\n",
       "          'all': 1,\n",
       "          'alone': 1,\n",
       "          'altogether': 2,\n",
       "          'among': 1,\n",
       "          'an': 2,\n",
       "          'arm': 1,\n",
       "          'at': 2,\n",
       "          'behind': 3,\n",
       "          'by': 3,\n",
       "          'disgrace': 1,\n",
       "          'everything': 1,\n",
       "          'far': 1,\n",
       "          'floating': 1,\n",
       "          'for': 2,\n",
       "          'fore-finger': 1,\n",
       "          'forefinger': 1,\n",
       "          'hand': 9,\n",
       "          'her': 19,\n",
       "          'him': 8,\n",
       "          'his': 1,\n",
       "          'in': 5,\n",
       "          'intervals': 1,\n",
       "          'it': 2,\n",
       "          'leg': 1,\n",
       "          'me': 4,\n",
       "          'my': 1,\n",
       "          'no': 3,\n",
       "          'of': 1,\n",
       "          'off': 12,\n",
       "          'open': 1,\n",
       "          'out': 3,\n",
       "          'seemed': 1,\n",
       "          'solitary': 1,\n",
       "          'speculation': 1,\n",
       "          'strong': 1,\n",
       "          'sympathy': 1,\n",
       "          'the': 18,\n",
       "          'their': 1,\n",
       "          'them': 6,\n",
       "          'these': 1,\n",
       "          'those': 1,\n",
       "          'to': 5,\n",
       "          'town': 1,\n",
       "          'under': 1,\n",
       "          'undone': 2,\n",
       "          'us': 2,\n",
       "          'vacant': 1,\n",
       "          'with': 1,\n",
       "          'without': 2,\n",
       "          'yesterday': 1,\n",
       "          'you': 3})"
      ]
     },
     "execution_count": 20,
     "metadata": {},
     "output_type": "execute_result"
    }
   ],
   "source": [
    "conditional_frequency_distribution['left']"
   ]
  },
  {
   "cell_type": "code",
   "execution_count": 21,
   "metadata": {
    "ExecuteTime": {
     "end_time": "2017-10-02T00:31:44.265486Z",
     "start_time": "2017-10-02T00:31:44.257668Z"
    }
   },
   "outputs": [
    {
     "data": {
      "text/plain": [
       "19"
      ]
     },
     "execution_count": 21,
     "metadata": {},
     "output_type": "execute_result"
    }
   ],
   "source": [
    "conditional_frequency_distribution['left']['her']"
   ]
  },
  {
   "cell_type": "code",
   "execution_count": 22,
   "metadata": {
    "ExecuteTime": {
     "end_time": "2017-10-02T00:31:44.944429Z",
     "start_time": "2017-10-02T00:31:44.938205Z"
    }
   },
   "outputs": [
    {
     "data": {
      "text/plain": [
       "dict_keys(['in', 'out', ',', 'at', 'seemed', 'Leubronn', 'hand', 'her', 'them', 'to', 'Pennicote', 'a', 'far', 'behind', 'an', 'undone', 'off', 'fore-finger', 'alone', 'leg', 'altogether', 'the', 'my', 'under', 'arm', 'him', 'his', 'open', 'without', 'their', 'us', '.', 'it', 'no', '--', 'Penelope', 'all', 'Quetcham', 'these', 'yesterday', 'by', 'forefinger', 'for', 'among', 'me', 'you', 'solitary', 'those', 'disgrace', 'vacant', 'Genoa', 'of', 'floating', 'intervals', 'town', 'speculation', 'everything', 'England', 'with', ';', 'strong', 'sympathy'])"
      ]
     },
     "execution_count": 22,
     "metadata": {},
     "output_type": "execute_result"
    }
   ],
   "source": [
    "conditional_frequency_distribution['left'].keys()"
   ]
  },
  {
   "cell_type": "markdown",
   "metadata": {},
   "source": [
    "### Conditional Probability Distribution"
   ]
  },
  {
   "cell_type": "code",
   "execution_count": 23,
   "metadata": {
    "ExecuteTime": {
     "end_time": "2017-10-02T00:31:47.652723Z",
     "start_time": "2017-10-02T00:31:47.646221Z"
    }
   },
   "outputs": [
    {
     "data": {
      "text/plain": [
       "0.10650887573964497"
      ]
     },
     "execution_count": 23,
     "metadata": {},
     "output_type": "execute_result"
    }
   ],
   "source": [
    "conditional_probability_distribution['left'].prob('the')"
   ]
  },
  {
   "cell_type": "code",
   "execution_count": 24,
   "metadata": {
    "ExecuteTime": {
     "end_time": "2017-10-02T00:31:48.378743Z",
     "start_time": "2017-10-02T00:31:48.372522Z"
    }
   },
   "outputs": [
    {
     "data": {
      "text/plain": [
       "0.0"
      ]
     },
     "execution_count": 24,
     "metadata": {},
     "output_type": "execute_result"
    }
   ],
   "source": [
    "conditional_probability_distribution['left'].prob('as')"
   ]
  },
  {
   "cell_type": "code",
   "execution_count": 25,
   "metadata": {
    "ExecuteTime": {
     "end_time": "2017-10-02T00:31:49.003701Z",
     "start_time": "2017-10-02T00:31:48.996799Z"
    }
   },
   "outputs": [
    {
     "data": {
      "text/plain": [
       "'in'"
      ]
     },
     "execution_count": 25,
     "metadata": {},
     "output_type": "execute_result"
    }
   ],
   "source": [
    "conditional_probability_distribution['left'].generate()"
   ]
  },
  {
   "cell_type": "code",
   "execution_count": null,
   "metadata": {
    "collapsed": true
   },
   "outputs": [],
   "source": []
  }
 ],
 "metadata": {
  "_draft": {
   "nbviewer_url": "https://gist.github.com/070fd6faa95ff33de8818392f21703c8"
  },
  "gist": {
   "data": {
    "description": "notes-notebooks/20170929.ipynb",
    "public": false
   },
   "id": "070fd6faa95ff33de8818392f21703c8"
  },
  "kernelspec": {
   "display_name": "Python 3",
   "language": "python",
   "name": "python3"
  },
  "language_info": {
   "codemirror_mode": {
    "name": "ipython",
    "version": 3
   },
   "file_extension": ".py",
   "mimetype": "text/x-python",
   "name": "python",
   "nbconvert_exporter": "python",
   "pygments_lexer": "ipython3",
   "version": "3.6.2"
  },
  "varInspector": {
   "cols": {
    "lenName": 16,
    "lenType": 16,
    "lenVar": 40
   },
   "kernels_config": {
    "python": {
     "delete_cmd_postfix": "",
     "delete_cmd_prefix": "del ",
     "library": "var_list.py",
     "varRefreshCmd": "print(var_dic_list())"
    },
    "r": {
     "delete_cmd_postfix": ") ",
     "delete_cmd_prefix": "rm(",
     "library": "var_list.r",
     "varRefreshCmd": "cat(var_dic_list()) "
    }
   },
   "types_to_exclude": [
    "module",
    "function",
    "builtin_function_or_method",
    "instance",
    "_Feature"
   ],
   "window_display": false
  }
 },
 "nbformat": 4,
 "nbformat_minor": 2
}
